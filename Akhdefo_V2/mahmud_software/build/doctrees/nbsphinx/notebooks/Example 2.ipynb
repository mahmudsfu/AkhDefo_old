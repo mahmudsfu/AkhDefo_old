{
 "cells": [
  {
   "attachments": {},
   "cell_type": "markdown",
   "metadata": {},
   "source": [
    "# **Example 2**"
   ]
  },
  {
   "attachments": {},
   "cell_type": "markdown",
   "metadata": {},
   "source": [
    "Under construction!!\n"
   ]
  }
 ],
 "metadata": {
  "kernelspec": {
   "display_name": "Python 3",
   "language": "python",
   "name": "python3"
  },
  "language_info": {
   "name": "python",
   "version": "3.6.8"
  },
  "vscode": {
   "interpreter": {
    "hash": "ee993d06dc90a343de53c698d6a27850200f6081c2c580143b44fd78ff26c40f"
   }
  }
 },
 "nbformat": 4,
 "nbformat_minor": 2
}
